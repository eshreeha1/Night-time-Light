{
  "nbformat": 4,
  "nbformat_minor": 0,
  "metadata": {
    "colab": {
      "name": "Homework1_Solutions.ipynb",
      "version": "0.3.2",
      "provenance": [],
      "collapsed_sections": []
    },
    "kernelspec": {
      "name": "python3",
      "display_name": "Python 3"
    }
  },
  "cells": [
    {
      "metadata": {
        "id": "WoWxd_13FNTR",
        "colab_type": "code",
        "outputId": "5196e1be-be8b-4270-b446-1c206ac4ec60",
        "colab": {
          "base_uri": "https://localhost:8080/",
          "height": 54
        }
      },
      "cell_type": "code",
      "source": [
        "import numpy as np\n",
        "import pandas as pd\n",
        "\n",
        "url = \"https://drive.google.com/uc?export=download&id=1bqUedFHB8YVzrXbmPZ_unGwOUaCMVje6\"\n",
        "df = pd.read_excel(url, header=0)\n",
        "print('Columns:', list(df))\n",
        "dataset = df.values\n",
        "\n",
        "# Discard non-\"Q\" features, select pop. estimate as response\n",
        "X = dataset[:, 1:14]\n",
        "y = dataset[:, -1]"
      ],
      "execution_count": 0,
      "outputs": [
        {
          "output_type": "stream",
          "text": [
            "Columns: ['Month', 'Q0', 'Q1', 'Q2pt5', 'Q5', 'Q10', 'Q25', 'Q50', 'Q75', 'Q90', 'Q95', 'Q97pt5', 'Q99', 'Q100', 'STNAME', 'CTYNAME', 'POPESTIMATE2015']\n"
          ],
          "name": "stdout"
        }
      ]
    },
    {
      "metadata": {
        "id": "lebvFs5Iyrhe",
        "colab_type": "text"
      },
      "cell_type": "markdown",
      "source": [
        "## k-fold cross-validation"
      ]
    },
    {
      "metadata": {
        "id": "Lp-f49hu4XT-",
        "colab_type": "code",
        "outputId": "6ed935be-c8a6-4c21-faca-887716e6b211",
        "colab": {
          "base_uri": "https://localhost:8080/",
          "height": 244
        }
      },
      "cell_type": "code",
      "source": [
        "from sklearn.model_selection import KFold\n",
        "from sklearn.linear_model import LinearRegression\n",
        "from sklearn.ensemble import GradientBoostingRegressor\n",
        "from sklearn.ensemble import RandomForestRegressor\n",
        "from sklearn.metrics import mean_absolute_error\n",
        "\n",
        "np.random.seed(123)\n",
        "\n",
        "models = [LinearRegression(), RandomForestRegressor(), GradientBoostingRegressor()]\n",
        "\n",
        "# Set up the whole range of indices in the dataset, and split it into ten\n",
        "np.random.shuffle(dataset)\n",
        "index = np.arange(len(dataset))\n",
        "splits = np.split(index, 10)\n",
        "\n",
        "# k-fold cross-validation\n",
        "fold = 1\n",
        "for i, split in enumerate(splits):\n",
        "  print(\"Fold:\", fold); fold += 1\n",
        "  \n",
        "  # Generate test and train indices, similar to sklearn's method\n",
        "  test_index = split\n",
        "  train_index = np.concatenate(splits[:i] + splits[i+1:], axis=0)\n",
        "  \n",
        "  # Split into X and y\n",
        "  X_train, X_test = X[train_index], X[test_index]\n",
        "  y_train, y_test = y[train_index], y[test_index]\n",
        "  \n",
        "  # Train each model\n",
        "  for model in models:\n",
        "    model.fit(X_train, y_train)\n",
        "    df.loc[train_index, (str(model)+'Train')] = model.predict(X_train)\n",
        "    df.loc[test_index, (str(model)+'Test')] = model.predict(X_test)"
      ],
      "execution_count": 0,
      "outputs": [
        {
          "output_type": "stream",
          "text": [
            "Fold: 1\n"
          ],
          "name": "stdout"
        },
        {
          "output_type": "stream",
          "text": [
            "/usr/local/lib/python3.6/dist-packages/sklearn/ensemble/forest.py:246: FutureWarning: The default value of n_estimators will change from 10 in version 0.20 to 100 in 0.22.\n",
            "  \"10 in version 0.20 to 100 in 0.22.\", FutureWarning)\n"
          ],
          "name": "stderr"
        },
        {
          "output_type": "stream",
          "text": [
            "Fold: 2\n",
            "Fold: 3\n",
            "Fold: 4\n",
            "Fold: 5\n",
            "Fold: 6\n",
            "Fold: 7\n",
            "Fold: 8\n",
            "Fold: 9\n",
            "Fold: 10\n"
          ],
          "name": "stdout"
        }
      ]
    },
    {
      "metadata": {
        "id": "jV7Yd4QIy2Sx",
        "colab_type": "text"
      },
      "cell_type": "markdown",
      "source": [
        "## Error table"
      ]
    },
    {
      "metadata": {
        "id": "xizrfEvHCzn6",
        "colab_type": "code",
        "outputId": "d22146a4-8968-4560-ad00-3649911cdd70",
        "colab": {
          "base_uri": "https://localhost:8080/",
          "height": 138
        }
      },
      "cell_type": "code",
      "source": [
        "def absolute_percentage_error(y_true, y_pred):\n",
        "  return np.abs((y_true - y_pred)/y_true) * 100\n",
        "\n",
        "y_true = df[\"POPESTIMATE2015\"].values\n",
        "error_arr = []\n",
        "\n",
        "# Collect error metrics for each model\n",
        "for model in models:\n",
        "  train_mape = np.mean(absolute_percentage_error(y_true, df[str(model)+'Train'].values))\n",
        "  train_ape_sd = np.std(absolute_percentage_error(y_true, df[str(model)+'Train'].values))\n",
        "  train_mae = mean_absolute_error(y_true, df[str(model)+'Train'].values)\n",
        "  train_ae_sd = np.std(np.abs(y_true - df[str(model)+'Train'].values))\n",
        "  \n",
        "  test_mape = np.mean(absolute_percentage_error(y_true, df[str(model)+'Test'].values))\n",
        "  test_ape_sd = np.std(absolute_percentage_error(y_true, df[str(model)+'Test'].values))\n",
        "  test_mae = mean_absolute_error(y_true, df[str(model)+'Test'].values)\n",
        "  test_ae_sd = np.std(np.abs(y_true - df[str(model)+'Test'].values))\n",
        "  \n",
        "  error_arr.append([train_mape, train_ape_sd, train_mae, train_ae_sd,\n",
        "                    test_mape, test_ape_sd, test_mae, test_ae_sd])\n",
        "  \n",
        "# Create table\n",
        "error_df = pd.DataFrame(error_arr, columns = ['Train MAPE', '(sd)', 'Test MAPE', '(sd)', 'Train MAE', '(sd)', 'Test MAE', '(sd)'])\n",
        "error_df.rename(index={0:'Linear Regression', 1:'Random Forest', 2:'Gradient Boosting Model'}, inplace=True)\n",
        "display(error_df)"
      ],
      "execution_count": 0,
      "outputs": [
        {
          "output_type": "display_data",
          "data": {
            "text/html": [
              "<div>\n",
              "<style scoped>\n",
              "    .dataframe tbody tr th:only-of-type {\n",
              "        vertical-align: middle;\n",
              "    }\n",
              "\n",
              "    .dataframe tbody tr th {\n",
              "        vertical-align: top;\n",
              "    }\n",
              "\n",
              "    .dataframe thead th {\n",
              "        text-align: right;\n",
              "    }\n",
              "</style>\n",
              "<table border=\"1\" class=\"dataframe\">\n",
              "  <thead>\n",
              "    <tr style=\"text-align: right;\">\n",
              "      <th></th>\n",
              "      <th>Train MAPE</th>\n",
              "      <th>(sd)</th>\n",
              "      <th>Test MAPE</th>\n",
              "      <th>(sd)</th>\n",
              "      <th>Train MAE</th>\n",
              "      <th>(sd)</th>\n",
              "      <th>Test MAE</th>\n",
              "      <th>(sd)</th>\n",
              "    </tr>\n",
              "  </thead>\n",
              "  <tbody>\n",
              "    <tr>\n",
              "      <th>Linear Regression</th>\n",
              "      <td>1015.327952</td>\n",
              "      <td>4495.782905</td>\n",
              "      <td>139066.670670</td>\n",
              "      <td>367162.715563</td>\n",
              "      <td>1040.922029</td>\n",
              "      <td>4778.677622</td>\n",
              "      <td>140043.848935</td>\n",
              "      <td>371470.127637</td>\n",
              "    </tr>\n",
              "    <tr>\n",
              "      <th>Random Forest</th>\n",
              "      <td>996.710762</td>\n",
              "      <td>4687.543267</td>\n",
              "      <td>143314.262695</td>\n",
              "      <td>392482.071296</td>\n",
              "      <td>1073.151975</td>\n",
              "      <td>5209.842781</td>\n",
              "      <td>144616.177017</td>\n",
              "      <td>379491.543812</td>\n",
              "    </tr>\n",
              "    <tr>\n",
              "      <th>Gradient Boosting Model</th>\n",
              "      <td>981.934070</td>\n",
              "      <td>4641.545955</td>\n",
              "      <td>140983.241635</td>\n",
              "      <td>423453.796161</td>\n",
              "      <td>1023.308891</td>\n",
              "      <td>4821.661081</td>\n",
              "      <td>141002.486424</td>\n",
              "      <td>374576.843809</td>\n",
              "    </tr>\n",
              "  </tbody>\n",
              "</table>\n",
              "</div>"
            ],
            "text/plain": [
              "                          Train MAPE         (sd)      Test MAPE  \\\n",
              "Linear Regression        1015.327952  4495.782905  139066.670670   \n",
              "Random Forest             996.710762  4687.543267  143314.262695   \n",
              "Gradient Boosting Model   981.934070  4641.545955  140983.241635   \n",
              "\n",
              "                                  (sd)    Train MAE         (sd)  \\\n",
              "Linear Regression        367162.715563  1040.922029  4778.677622   \n",
              "Random Forest            392482.071296  1073.151975  5209.842781   \n",
              "Gradient Boosting Model  423453.796161  1023.308891  4821.661081   \n",
              "\n",
              "                              Test MAE           (sd)  \n",
              "Linear Regression        140043.848935  371470.127637  \n",
              "Random Forest            144616.177017  379491.543812  \n",
              "Gradient Boosting Model  141002.486424  374576.843809  "
            ]
          },
          "metadata": {
            "tags": []
          }
        }
      ]
    },
    {
      "metadata": {
        "id": "anttnNhMyxmt",
        "colab_type": "text"
      },
      "cell_type": "markdown",
      "source": [
        "## Box plots"
      ]
    },
    {
      "metadata": {
        "id": "iQedfA-M06jI",
        "colab_type": "code",
        "outputId": "711dd6ed-44a7-488b-a908-c40d2d4164da",
        "colab": {
          "base_uri": "https://localhost:8080/",
          "height": 364
        }
      },
      "cell_type": "code",
      "source": [
        "import matplotlib.pyplot as plt\n",
        "\n",
        "# Calculate the mean test prediction between all three models\n",
        "df['mean_test_pred'] = np.mean([df[str(model)+'Test'].values for model in models])\n",
        "\n",
        "states = ['California', 'Texas', 'Florida']\n",
        "\n",
        "# Generate AE and APE vectors for each state\n",
        "state_ae_arr = []\n",
        "state_ape_arr = []\n",
        "for state in states:\n",
        "  df_state = df[df['STNAME'] == state]\n",
        "  y_true = df_state['POPESTIMATE2015'].values\n",
        "  y_pred = df_state['mean_test_pred'].values\n",
        "  \n",
        "  state_ae_arr.append(np.abs(y_true - y_pred))\n",
        "  state_ape_arr.append(absolute_percentage_error(y_true, y_pred))\n",
        "\n",
        "# Box plot for AE (no outliers)\n",
        "fig, ax = plt.subplots()\n",
        "ax.boxplot(state_ae_arr, showfliers=False)\n",
        "ax.set_xlabel('State')\n",
        "ax.set_ylabel('AE')\n",
        "ax.set_xticklabels(states)\n",
        "\n",
        "plt.show()"
      ],
      "execution_count": 0,
      "outputs": [
        {
          "output_type": "display_data",
          "data": {
            "image/png": "[encoded data removed]",
            "text/plain": [
              "<Figure size 576x396 with 1 Axes>"
            ]
          },
          "metadata": {
            "tags": []
          }
        }
      ]
    },
    {
      "metadata": {
        "id": "mAvjRK7RwqL7",
        "colab_type": "code",
        "outputId": "66bcb5cc-dad2-493d-ff28-ca9a4254c413",
        "colab": {
          "base_uri": "https://localhost:8080/",
          "height": 361
        }
      },
      "cell_type": "code",
      "source": [
        "# Box plot for APE (no outliers)\n",
        "fig, ax = plt.subplots()\n",
        "ax.boxplot(state_ape_arr, showfliers=False)\n",
        "ax.set_xlabel('State')\n",
        "ax.set_ylabel('APE')\n",
        "ax.set_xticklabels(states)\n",
        "\n",
        "plt.show()"
      ],
      "execution_count": 0,
      "outputs": [
        {
          "output_type": "display_data",
          "data": {
            "image/png": "[encoded data removed]",
            "text/plain": [
              "<Figure size 576x396 with 1 Axes>"
            ]
          },
          "metadata": {
            "tags": []
          }
        }
      ]
    },
    {
      "metadata": {
        "id": "Iohp3OqGymUK",
        "colab_type": "text"
      },
      "cell_type": "markdown",
      "source": [
        "## Worst counties"
      ]
    },
    {
      "metadata": {
        "id": "N13geKufyk1K",
        "colab_type": "code",
        "outputId": "418a8122-a26c-4f41-9544-266b0c765b69",
        "colab": {
          "base_uri": "https://localhost:8080/",
          "height": 881
        }
      },
      "cell_type": "code",
      "source": [
        "# Find the MAE of the mean prediction for each county\n",
        "county_maes = {}\n",
        "for county in set(df['CTYNAME']):\n",
        "  df_county = df[df['CTYNAME'] == county]\n",
        "  county_maes[county] = mean_absolute_error(df_county['POPESTIMATE2015'], df_county['mean_test_pred'].values)\n",
        "\n",
        "sorted(county_maes, key=county_maes.get, reverse=True)[:50]"
      ],
      "execution_count": 0,
      "outputs": [
        {
          "output_type": "execute_result",
          "data": {
            "text/plain": [
              "['Los Angeles',\n",
              " 'Maricopa',\n",
              " 'San Diego',\n",
              " 'Miami-Dade',\n",
              " 'Harris',\n",
              " 'Riverside',\n",
              " 'Queens',\n",
              " 'San Bernardino',\n",
              " 'Tarrant',\n",
              " 'Santa Clara',\n",
              " 'Bexar',\n",
              " 'Cook',\n",
              " 'New York',\n",
              " 'Alameda',\n",
              " 'Sacramento',\n",
              " 'Bronx',\n",
              " 'Kings',\n",
              " 'Hillsborough',\n",
              " 'Cuyahoga',\n",
              " 'Oakland',\n",
              " 'Hennepin',\n",
              " 'King',\n",
              " 'Fairfax',\n",
              " 'Suffolk',\n",
              " 'Contra Costa',\n",
              " 'Wake',\n",
              " 'Pima',\n",
              " 'St. Louis',\n",
              " 'Honolulu',\n",
              " 'Westchester',\n",
              " 'Fresno',\n",
              " 'Milwaukee',\n",
              " 'Pinellas',\n",
              " 'Bergen',\n",
              " 'DuPage',\n",
              " 'Collin',\n",
              " \"Prince George's\",\n",
              " 'Gwinnett',\n",
              " 'Kern',\n",
              " 'San Francisco',\n",
              " 'Macomb',\n",
              " 'New Haven',\n",
              " 'Orange',\n",
              " 'Oklahoma',\n",
              " 'Snohomish',\n",
              " 'San Mateo',\n",
              " 'El Paso',\n",
              " 'Cobb',\n",
              " 'San Joaquin',\n",
              " 'Fort Bend']"
            ]
          },
          "metadata": {
            "tags": []
          },
          "execution_count": 7
        }
      ]
    }
  ]
}